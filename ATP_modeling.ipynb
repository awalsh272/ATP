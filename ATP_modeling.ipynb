{
 "cells": [
  {
   "cell_type": "code",
   "execution_count": 5,
   "metadata": {},
   "outputs": [],
   "source": [
    "import pandas as pd\n",
    "import numpy as np\n",
    "import matplotlib.pyplot as plt\n",
    "import sqlite3\n",
    "from sqlite3 import Error\n",
    "from datetime import datetime as dt\n",
    "import random\n",
    "import os\n",
    "import re\n",
    "import xgboost as xgb\n",
    "from timeit import default_timer as timer"
   ]
  },
  {
   "cell_type": "code",
   "execution_count": 6,
   "metadata": {},
   "outputs": [],
   "source": [
    "from sklearn.linear_model import LogisticRegression, LogisticRegressionCV\n",
    "from sklearn.model_selection import train_test_split\n",
    "from sklearn.preprocessing import StandardScaler\n",
    "from sklearn.decomposition import PCA\n",
    "from sklearn.metrics import confusion_matrix\n",
    "from sklearn import metrics\n",
    "from sklearn import svm\n",
    "from sklearn.feature_selection import GenericUnivariateSelect, SelectFdr, chi2, f_classif\n",
    "from sklearn.naive_bayes import GaussianNB"
   ]
  },
  {
   "cell_type": "code",
   "execution_count": 7,
   "metadata": {},
   "outputs": [
    {
     "data": {
      "text/html": [
       "<div>\n",
       "<style scoped>\n",
       "    .dataframe tbody tr th:only-of-type {\n",
       "        vertical-align: middle;\n",
       "    }\n",
       "\n",
       "    .dataframe tbody tr th {\n",
       "        vertical-align: top;\n",
       "    }\n",
       "\n",
       "    .dataframe thead th {\n",
       "        text-align: right;\n",
       "    }\n",
       "</style>\n",
       "<table border=\"1\" class=\"dataframe\">\n",
       "  <thead>\n",
       "    <tr style=\"text-align: right;\">\n",
       "      <th></th>\n",
       "      <th>srvwon_perc_p1</th>\n",
       "      <th>srvwon_perc_p2</th>\n",
       "      <th>retwon_perc_p1</th>\n",
       "      <th>retwon_perc_p2</th>\n",
       "      <th>bp_save_perc_p1</th>\n",
       "      <th>bp_save_perc_p2</th>\n",
       "      <th>bp_conv_perc_p1</th>\n",
       "      <th>bp_conv_perc_p2</th>\n",
       "      <th>ace_perc_p1</th>\n",
       "      <th>ace_perc_p2</th>\n",
       "      <th>...</th>\n",
       "      <th>retgames_won_perc_diff</th>\n",
       "      <th>h2h_retgames_won_perc_diff</th>\n",
       "      <th>retwon_perc_diff</th>\n",
       "      <th>h2h_retwon_perc_diff</th>\n",
       "      <th>setswon_perc_diff</th>\n",
       "      <th>h2h_setswon_perc_diff</th>\n",
       "      <th>srvgames_won_perc_diff</th>\n",
       "      <th>h2h_srvgames_won_perc_diff</th>\n",
       "      <th>srvwon_perc_diff</th>\n",
       "      <th>h2h_srvwon_perc_diff</th>\n",
       "    </tr>\n",
       "  </thead>\n",
       "  <tbody>\n",
       "    <tr>\n",
       "      <th>0</th>\n",
       "      <td>0.623588</td>\n",
       "      <td>0.637299</td>\n",
       "      <td>0.387328</td>\n",
       "      <td>0.350133</td>\n",
       "      <td>0.574468</td>\n",
       "      <td>0.609929</td>\n",
       "      <td>0.360947</td>\n",
       "      <td>0.375000</td>\n",
       "      <td>0.039523</td>\n",
       "      <td>0.081672</td>\n",
       "      <td>...</td>\n",
       "      <td>0.042257</td>\n",
       "      <td>0.0</td>\n",
       "      <td>0.037196</td>\n",
       "      <td>0.0</td>\n",
       "      <td>0.163399</td>\n",
       "      <td>0.0</td>\n",
       "      <td>0.009545</td>\n",
       "      <td>0.0</td>\n",
       "      <td>-0.013711</td>\n",
       "      <td>0.0</td>\n",
       "    </tr>\n",
       "    <tr>\n",
       "      <th>1</th>\n",
       "      <td>0.628539</td>\n",
       "      <td>0.566176</td>\n",
       "      <td>0.383315</td>\n",
       "      <td>0.417382</td>\n",
       "      <td>0.573333</td>\n",
       "      <td>0.551724</td>\n",
       "      <td>0.365079</td>\n",
       "      <td>0.449541</td>\n",
       "      <td>0.036806</td>\n",
       "      <td>0.115546</td>\n",
       "      <td>...</td>\n",
       "      <td>-0.084082</td>\n",
       "      <td>0.0</td>\n",
       "      <td>-0.034067</td>\n",
       "      <td>0.0</td>\n",
       "      <td>0.071429</td>\n",
       "      <td>0.0</td>\n",
       "      <td>0.137192</td>\n",
       "      <td>0.0</td>\n",
       "      <td>0.062363</td>\n",
       "      <td>0.0</td>\n",
       "    </tr>\n",
       "    <tr>\n",
       "      <th>2</th>\n",
       "      <td>0.664962</td>\n",
       "      <td>0.635603</td>\n",
       "      <td>0.296392</td>\n",
       "      <td>0.396719</td>\n",
       "      <td>0.696970</td>\n",
       "      <td>0.622517</td>\n",
       "      <td>0.210526</td>\n",
       "      <td>0.445087</td>\n",
       "      <td>0.069054</td>\n",
       "      <td>0.060932</td>\n",
       "      <td>...</td>\n",
       "      <td>-0.138481</td>\n",
       "      <td>0.0</td>\n",
       "      <td>-0.100328</td>\n",
       "      <td>0.0</td>\n",
       "      <td>0.035714</td>\n",
       "      <td>0.0</td>\n",
       "      <td>0.158805</td>\n",
       "      <td>0.0</td>\n",
       "      <td>0.029358</td>\n",
       "      <td>0.0</td>\n",
       "    </tr>\n",
       "    <tr>\n",
       "      <th>3</th>\n",
       "      <td>0.604180</td>\n",
       "      <td>0.634176</td>\n",
       "      <td>0.388748</td>\n",
       "      <td>0.359868</td>\n",
       "      <td>0.566667</td>\n",
       "      <td>0.668919</td>\n",
       "      <td>0.372781</td>\n",
       "      <td>0.398438</td>\n",
       "      <td>0.076631</td>\n",
       "      <td>0.085133</td>\n",
       "      <td>...</td>\n",
       "      <td>0.085020</td>\n",
       "      <td>0.0</td>\n",
       "      <td>0.028880</td>\n",
       "      <td>0.0</td>\n",
       "      <td>0.155753</td>\n",
       "      <td>0.0</td>\n",
       "      <td>-0.010031</td>\n",
       "      <td>0.0</td>\n",
       "      <td>-0.029997</td>\n",
       "      <td>0.0</td>\n",
       "    </tr>\n",
       "    <tr>\n",
       "      <th>4</th>\n",
       "      <td>0.617260</td>\n",
       "      <td>0.619205</td>\n",
       "      <td>0.360193</td>\n",
       "      <td>0.383701</td>\n",
       "      <td>0.564286</td>\n",
       "      <td>0.666667</td>\n",
       "      <td>0.403226</td>\n",
       "      <td>0.415094</td>\n",
       "      <td>0.079051</td>\n",
       "      <td>0.048013</td>\n",
       "      <td>...</td>\n",
       "      <td>0.028371</td>\n",
       "      <td>0.0</td>\n",
       "      <td>-0.023508</td>\n",
       "      <td>0.0</td>\n",
       "      <td>0.059434</td>\n",
       "      <td>0.0</td>\n",
       "      <td>0.025000</td>\n",
       "      <td>0.0</td>\n",
       "      <td>-0.001946</td>\n",
       "      <td>0.0</td>\n",
       "    </tr>\n",
       "  </tbody>\n",
       "</table>\n",
       "<p>5 rows × 151 columns</p>\n",
       "</div>"
      ],
      "text/plain": [
       "   srvwon_perc_p1  srvwon_perc_p2  retwon_perc_p1  retwon_perc_p2  \\\n",
       "0        0.623588        0.637299        0.387328        0.350133   \n",
       "1        0.628539        0.566176        0.383315        0.417382   \n",
       "2        0.664962        0.635603        0.296392        0.396719   \n",
       "3        0.604180        0.634176        0.388748        0.359868   \n",
       "4        0.617260        0.619205        0.360193        0.383701   \n",
       "\n",
       "   bp_save_perc_p1  bp_save_perc_p2  bp_conv_perc_p1  bp_conv_perc_p2  \\\n",
       "0         0.574468         0.609929         0.360947         0.375000   \n",
       "1         0.573333         0.551724         0.365079         0.449541   \n",
       "2         0.696970         0.622517         0.210526         0.445087   \n",
       "3         0.566667         0.668919         0.372781         0.398438   \n",
       "4         0.564286         0.666667         0.403226         0.415094   \n",
       "\n",
       "   ace_perc_p1  ace_perc_p2  ...  retgames_won_perc_diff  \\\n",
       "0     0.039523     0.081672  ...                0.042257   \n",
       "1     0.036806     0.115546  ...               -0.084082   \n",
       "2     0.069054     0.060932  ...               -0.138481   \n",
       "3     0.076631     0.085133  ...                0.085020   \n",
       "4     0.079051     0.048013  ...                0.028371   \n",
       "\n",
       "   h2h_retgames_won_perc_diff  retwon_perc_diff  h2h_retwon_perc_diff  \\\n",
       "0                         0.0          0.037196                   0.0   \n",
       "1                         0.0         -0.034067                   0.0   \n",
       "2                         0.0         -0.100328                   0.0   \n",
       "3                         0.0          0.028880                   0.0   \n",
       "4                         0.0         -0.023508                   0.0   \n",
       "\n",
       "   setswon_perc_diff  h2h_setswon_perc_diff  srvgames_won_perc_diff  \\\n",
       "0           0.163399                    0.0                0.009545   \n",
       "1           0.071429                    0.0                0.137192   \n",
       "2           0.035714                    0.0                0.158805   \n",
       "3           0.155753                    0.0               -0.010031   \n",
       "4           0.059434                    0.0                0.025000   \n",
       "\n",
       "   h2h_srvgames_won_perc_diff  srvwon_perc_diff  h2h_srvwon_perc_diff  \n",
       "0                         0.0         -0.013711                   0.0  \n",
       "1                         0.0          0.062363                   0.0  \n",
       "2                         0.0          0.029358                   0.0  \n",
       "3                         0.0         -0.029997                   0.0  \n",
       "4                         0.0         -0.001946                   0.0  \n",
       "\n",
       "[5 rows x 151 columns]"
      ]
     },
     "execution_count": 7,
     "metadata": {},
     "output_type": "execute_result"
    }
   ],
   "source": [
    "PATH=r'C:\\Users\\andyk\\OneDrive\\Documents\\Python_Scripts\\ATP'\n",
    "\n",
    "def read_path(file):\n",
    "    return pd.read_csv(os.path.join(PATH, file))\n",
    "\n",
    "sm_2000_dummies=read_path(\"clean_matches.csv\")\n",
    "h2h_df=read_path(\"h2h_df.csv\")\n",
    "sm_names=read_path(\"sm_names.csv\")\n",
    "sm_perc=read_path(\"sm_perc.csv\")\n",
    "sm_diff=read_path(\"sm_diff.csv\")\n",
    "sm_h2h=read_path(\"sm_h2h.csv\")\n",
    "sm_h2h.head()"
   ]
  },
  {
   "cell_type": "code",
   "execution_count": 8,
   "metadata": {},
   "outputs": [
    {
     "data": {
      "text/plain": [
       "Hard      12696\n",
       "Clay       5973\n",
       "Grass      2532\n",
       "Carpet      327\n",
       "Name: surface, dtype: int64"
      ]
     },
     "execution_count": 8,
     "metadata": {},
     "output_type": "execute_result"
    }
   ],
   "source": [
    "sm_perc[\"surface\"].value_counts()"
   ]
  },
  {
   "cell_type": "markdown",
   "metadata": {},
   "source": [
    "##### Stuff from the other notebook"
   ]
  },
  {
   "cell_type": "code",
   "execution_count": 9,
   "metadata": {},
   "outputs": [],
   "source": [
    "RANDOM_STATE=10012020"
   ]
  },
  {
   "cell_type": "code",
   "execution_count": 10,
   "metadata": {},
   "outputs": [
    {
     "data": {
      "text/plain": [
       "['1stIn',\n",
       " '1stWon',\n",
       " '2ndWon',\n",
       " 'SvGms',\n",
       " 'ace',\n",
       " 'bpFaced',\n",
       " 'bpSaved',\n",
       " 'df',\n",
       " 'svpt',\n",
       " 'age',\n",
       " 'ht',\n",
       " 'rank',\n",
       " 'rank_points',\n",
       " '1stIn',\n",
       " '1stWon',\n",
       " '2ndWon',\n",
       " 'SvGms',\n",
       " 'ace',\n",
       " 'bpFaced',\n",
       " 'bpSaved',\n",
       " 'df',\n",
       " 'svpt',\n",
       " 'age',\n",
       " 'ht',\n",
       " 'rank',\n",
       " 'rank_points',\n",
       " 'srv_ptswon',\n",
       " 'srv_ptswon',\n",
       " 'ret_pts',\n",
       " 'ret_pts',\n",
       " 'ret_Gms',\n",
       " 'ret_Gms',\n",
       " 'ret_won',\n",
       " 'ret_won',\n",
       " 'bp_opp',\n",
       " 'bp_opp',\n",
       " 'bp_conv',\n",
       " 'bp_conv',\n",
       " 'SvGames_won',\n",
       " 'SvGames_won',\n",
       " 'retgames_won',\n",
       " 'retgames_won',\n",
       " 'total_sets',\n",
       " 'total_sets',\n",
       " 'total_games',\n",
       " 'total_games',\n",
       " 'setswon',\n",
       " 'setswon',\n",
       " 'gameswon',\n",
       " 'gameswon',\n",
       " 'rank_log',\n",
       " 'rank_log',\n",
       " 'rank_points_log',\n",
       " 'rank_points_log']"
      ]
     },
     "execution_count": 10,
     "metadata": {},
     "output_type": "execute_result"
    }
   ],
   "source": [
    "other_cols=[\"best_of\", \"draw_size\", \"minutes\", \"round\", \"score\", \"surface\", \"tourney_level\", \"Year\", \"tournament_date\"]\n",
    "not_param_cols=other_cols+[\"Win\",\"w_hand\",\"l_hand\",\"w_ioc\",\"l_ioc\", \"w_seed\", \"l_seed\", \"name_p1\", \"name_p2\"]\n",
    "params=[\"_\".join(x.split(\"_\")[:-1]) for x in sm_names.columns[~sm_names.columns.isin(not_param_cols)]]\n",
    "diff_params=[x for x in params if x not in [\"hand\", \"ioc\", \"seed\"]]\n",
    "\n",
    "p1_p2_h2h_dict={param: [param+\"_\"+x for x in [\"p1\", \"p2\"]]+[\"h2h_\"+param+\"_\"+x for x in [\"p1\", \"p2\"]] for param in params}\n",
    "\n",
    "diff_params"
   ]
  },
  {
   "cell_type": "code",
   "execution_count": 11,
   "metadata": {},
   "outputs": [],
   "source": [
    "#print(sm_perc.columns)\n",
    "h2h_not_params=[\"surface\", \"Date\", \"Win\"]\n",
    "h2h_diff_params=list(np.unique([\"_\".join(x.split(\"_\")[:-1]) for x in sm_perc.columns[~sm_perc.columns.isin(h2h_not_params)]]))\n",
    "#print(h2h_diff_params)\n",
    "p1_p2_h2h_dict={param: [param+\"_\"+x for x in [\"p1\", \"p2\"]]+[\"h2h_\"+param+\"_\"+x for x in [\"p1\", \"p2\"]] for param in h2h_diff_params}\n",
    "#p1_p2_h2h_dict\n",
    "h2h_params=h2h_diff_params+[\"h2h_\"+param for param in h2h_diff_params]\n",
    "diff_params=[x for x in h2h_diff_params if x not in [\"name\", \"hand\", \"ioc\", \"seed\"]]\n",
    "\n",
    "def create_diff(df, num_cols):\n",
    "    #num_cols=df.select_dtypes(include=np.number).columns.tolist()\n",
    "    \n",
    "    del_list=[]\n",
    "    for col in num_cols:\n",
    "        #get the player 1, player columns for the stat\n",
    "        p1, p2, p1_h2h, p2_h2h=p1_p2_h2h_dict[col][0], p1_p2_h2h_dict[col][1], p1_p2_h2h_dict[col][2], p1_p2_h2h_dict[col][3]\n",
    "        #subtract p1 and p2 stat to get differene columns\n",
    "        df[col+\"_diff\"]=df[p1]-df[p2]\n",
    "        df[\"h2h_\"+col+\"_diff\"]=df[p1_h2h]-df[p2_h2h]\n",
    "        del_list.extend([p1,p2, p1_h2h, p2_h2h])\n",
    "    #drop all p1 and p2 columns, leaving only the difference columns\n",
    "    new_df=df.drop(del_list, axis=1)\n",
    "    return new_df"
   ]
  },
  {
   "cell_type": "markdown",
   "metadata": {},
   "source": [
    "# Model Training"
   ]
  },
  {
   "cell_type": "markdown",
   "metadata": {},
   "source": [
    "### Test Train Split"
   ]
  },
  {
   "cell_type": "code",
   "execution_count": 12,
   "metadata": {},
   "outputs": [],
   "source": [
    "#print(np.shape(sm_2000_dummies[\"Win\"]), np.shape(sm_2000_dummies.drop(\"Win\", axis=1)))\n",
    "drop_cols=[\"Win\", \"name_p1\", \"name_p2\", \"surface\", \"Date\", \"h2h_name_p1\", \"h2h_name_p2\"]\n",
    "x_train, x_test, y_train, y_test=train_test_split(sm_diff.drop(drop_cols, axis=1), \n",
    "                                                  sm_diff[\"Win\"], \n",
    "                                                  test_size=0.3,\n",
    "                                                  random_state=RANDOM_STATE)"
   ]
  },
  {
   "cell_type": "markdown",
   "metadata": {},
   "source": [
    "### Scaling "
   ]
  },
  {
   "cell_type": "code",
   "execution_count": 13,
   "metadata": {},
   "outputs": [
    {
     "name": "stdout",
     "output_type": "stream",
     "text": [
      "0\n",
      "1steff_diff                   0\n",
      "h2h_1steff_diff               0\n",
      "1stsrv_perc_diff              0\n",
      "h2h_1stsrv_perc_diff          0\n",
      "1stwin_perc_diff              0\n",
      "h2h_1stwin_perc_diff          0\n",
      "2ndeff_diff                   0\n",
      "h2h_2ndeff_diff               0\n",
      "2ndsrv_perc_diff              0\n",
      "h2h_2ndsrv_perc_diff          0\n",
      "2ndwin_perc_diff              0\n",
      "h2h_2ndwin_perc_diff          0\n",
      "ace_perc_diff                 0\n",
      "h2h_ace_perc_diff             0\n",
      "age_diff                      0\n",
      "h2h_age_diff                  0\n",
      "bp_conv_perc_diff             0\n",
      "h2h_bp_conv_perc_diff         0\n",
      "bp_per_retgame_diff           0\n",
      "h2h_bp_per_retgame_diff       0\n",
      "bp_per_svgame_diff            0\n",
      "h2h_bp_per_svgame_diff        0\n",
      "bp_save_perc_diff             0\n",
      "h2h_bp_save_perc_diff         0\n",
      "df_perc_diff                  0\n",
      "h2h_df_perc_diff              0\n",
      "expected_retwin_diff          0\n",
      "h2h_expected_retwin_diff      0\n",
      "expected_srvwin_diff          0\n",
      "h2h_expected_srvwin_diff      0\n",
      "gameswon_perc_diff            0\n",
      "h2h_gameswon_perc_diff        0\n",
      "ht_diff                       0\n",
      "h2h_ht_diff                   0\n",
      "rank_log_diff                 0\n",
      "h2h_rank_log_diff             0\n",
      "rank_points_log_diff          0\n",
      "h2h_rank_points_log_diff      0\n",
      "retgames_won_perc_diff        0\n",
      "h2h_retgames_won_perc_diff    0\n",
      "retwon_perc_diff              0\n",
      "h2h_retwon_perc_diff          0\n",
      "setswon_perc_diff             0\n",
      "h2h_setswon_perc_diff         0\n",
      "srvgames_won_perc_diff        0\n",
      "h2h_srvgames_won_perc_diff    0\n",
      "srvwon_perc_diff              0\n",
      "h2h_srvwon_perc_diff          0\n",
      "dtype: int64\n"
     ]
    }
   ],
   "source": [
    "#normalize the data\n",
    "scaler=StandardScaler()\n",
    "\n",
    "x_train_norm=scaler.fit_transform(x_train)\n",
    "x_test_norm=scaler.transform(x_test)\n",
    "\n",
    "print(np.isnan(x_train_norm).sum())\n",
    "print(np.isnan(x_train).sum())\n",
    "\n",
    "#for param in params:\n",
    "#    x_train_norm.loc[:,win_lose_dict[param]].plot.hist(alpha=0.5)"
   ]
  },
  {
   "cell_type": "markdown",
   "metadata": {},
   "source": [
    "## Logistic Regression"
   ]
  },
  {
   "cell_type": "code",
   "execution_count": 14,
   "metadata": {},
   "outputs": [],
   "source": [
    "def coefficient_df(x_train, clf):\n",
    "    return pd.DataFrame({\"Feature\":x_train.columns.tolist(),\"Coefficients\":clf.coef_[0]})"
   ]
  },
  {
   "cell_type": "code",
   "execution_count": 15,
   "metadata": {},
   "outputs": [],
   "source": [
    "clf=LogisticRegressionCV(cv=5, random_state=RANDOM_STATE,\n",
    "                         max_iter=4000,Cs=[1,10,100,1000])\\\n",
    "                        .fit(x_train_norm, y_train)"
   ]
  },
  {
   "cell_type": "code",
   "execution_count": 16,
   "metadata": {},
   "outputs": [
    {
     "name": "stdout",
     "output_type": "stream",
     "text": [
      "                       Feature  Coefficients\n",
      "0                  1steff_diff     -0.018411\n",
      "1              h2h_1steff_diff     -0.106942\n",
      "2             1stsrv_perc_diff      0.063445\n",
      "3         h2h_1stsrv_perc_diff      0.017296\n",
      "4             1stwin_perc_diff     -0.056176\n",
      "5         h2h_1stwin_perc_diff     -0.086314\n",
      "6                  2ndeff_diff      1.136019\n",
      "7              h2h_2ndeff_diff     -0.241596\n",
      "8             2ndsrv_perc_diff     -0.347759\n",
      "9         h2h_2ndsrv_perc_diff      0.145660\n",
      "10            2ndwin_perc_diff     -1.028485\n",
      "11        h2h_2ndwin_perc_diff      0.116237\n",
      "12               ace_perc_diff      0.011789\n",
      "13           h2h_ace_perc_diff      0.009354\n",
      "14                    age_diff     -0.068519\n",
      "15                h2h_age_diff     -0.068519\n",
      "16           bp_conv_perc_diff      0.167789\n",
      "17       h2h_bp_conv_perc_diff      0.040188\n",
      "18         bp_per_retgame_diff      0.100081\n",
      "19     h2h_bp_per_retgame_diff     -0.630618\n",
      "20          bp_per_svgame_diff     -0.769745\n",
      "21      h2h_bp_per_svgame_diff     -0.704871\n",
      "22           bp_save_perc_diff      0.554268\n",
      "23       h2h_bp_save_perc_diff      0.063819\n",
      "24                df_perc_diff      0.256076\n",
      "25            h2h_df_perc_diff      0.184469\n",
      "26        expected_retwin_diff     -0.175308\n",
      "27    h2h_expected_retwin_diff     -0.134099\n",
      "28        expected_srvwin_diff      0.175308\n",
      "29    h2h_expected_srvwin_diff      0.134099\n",
      "30          gameswon_perc_diff      0.211198\n",
      "31      h2h_gameswon_perc_diff     -0.116773\n",
      "32                     ht_diff      0.000770\n",
      "33                 h2h_ht_diff     -0.007940\n",
      "34               rank_log_diff      0.080077\n",
      "35           h2h_rank_log_diff      0.719222\n",
      "36        rank_points_log_diff      0.070029\n",
      "37    h2h_rank_points_log_diff      0.688445\n",
      "38      retgames_won_perc_diff      0.191261\n",
      "39  h2h_retgames_won_perc_diff     -0.180301\n",
      "40            retwon_perc_diff      0.501856\n",
      "41        h2h_retwon_perc_diff     -0.019693\n",
      "42           setswon_perc_diff     -0.005857\n",
      "43       h2h_setswon_perc_diff      0.045942\n",
      "44      srvgames_won_perc_diff     -0.498980\n",
      "45  h2h_srvgames_won_perc_diff      0.251325\n",
      "46            srvwon_perc_diff      0.288939\n",
      "47        h2h_srvwon_perc_diff     -0.032562\n",
      "0.7346338442483357\n"
     ]
    }
   ],
   "source": [
    "y_pred=clf.predict(x_test_norm)\n",
    "coef_df=coefficient_df(x_train, clf)\n",
    "print(coef_df.head(50))\n",
    "print(clf.score(x_test_norm, y_test))"
   ]
  },
  {
   "cell_type": "code",
   "execution_count": 17,
   "metadata": {},
   "outputs": [
    {
     "data": {
      "text/plain": [
       "array([[2347,  877],\n",
       "       [ 837, 2398]], dtype=int64)"
      ]
     },
     "execution_count": 17,
     "metadata": {},
     "output_type": "execute_result"
    }
   ],
   "source": [
    "confusion_matrix(y_test, y_pred)"
   ]
  },
  {
   "cell_type": "markdown",
   "metadata": {},
   "source": [
    "### \"Lasso\" (L1 penalty) Logistic"
   ]
  },
  {
   "cell_type": "code",
   "execution_count": 18,
   "metadata": {},
   "outputs": [],
   "source": [
    "clf_l1=LogisticRegression(penalty=\"l1\", solver=\"liblinear\")\\\n",
    "                        .fit(x_train_norm, y_train)"
   ]
  },
  {
   "cell_type": "code",
   "execution_count": 19,
   "metadata": {},
   "outputs": [
    {
     "name": "stdout",
     "output_type": "stream",
     "text": [
      "                       Feature  Coefficients\n",
      "0                  1steff_diff      0.011404\n",
      "1              h2h_1steff_diff     -0.061177\n",
      "2             1stsrv_perc_diff      0.056709\n",
      "3         h2h_1stsrv_perc_diff      0.000000\n",
      "4             1stwin_perc_diff      0.000000\n",
      "5         h2h_1stwin_perc_diff     -0.057416\n",
      "6                  2ndeff_diff      1.077597\n",
      "7              h2h_2ndeff_diff     -0.070963\n",
      "8             2ndsrv_perc_diff     -0.322945\n",
      "9         h2h_2ndsrv_perc_diff      0.103447\n",
      "10            2ndwin_perc_diff     -0.937010\n",
      "11        h2h_2ndwin_perc_diff      0.000000\n",
      "12               ace_perc_diff      0.011288\n",
      "13           h2h_ace_perc_diff      0.008115\n",
      "14                    age_diff     -0.136515\n",
      "15                h2h_age_diff      0.000000\n",
      "16           bp_conv_perc_diff      0.165656\n",
      "17       h2h_bp_conv_perc_diff      0.034186\n",
      "18         bp_per_retgame_diff      0.096457\n",
      "19     h2h_bp_per_retgame_diff     -0.422713\n",
      "20          bp_per_svgame_diff     -0.770824\n",
      "21      h2h_bp_per_svgame_diff     -0.492885\n",
      "22           bp_save_perc_diff      0.554648\n",
      "23       h2h_bp_save_perc_diff      0.067166\n",
      "24                df_perc_diff      0.126169\n",
      "25            h2h_df_perc_diff      0.139696\n",
      "26        expected_retwin_diff      0.000000\n",
      "27    h2h_expected_retwin_diff     -0.048802\n",
      "28        expected_srvwin_diff      0.000000\n",
      "29    h2h_expected_srvwin_diff      0.057071\n",
      "30          gameswon_perc_diff      0.194257\n",
      "31      h2h_gameswon_perc_diff     -0.069230\n",
      "32                     ht_diff      0.000000\n",
      "33                 h2h_ht_diff     -0.006891\n",
      "34               rank_log_diff      0.060206\n",
      "35           h2h_rank_log_diff      0.709860\n",
      "36        rank_points_log_diff      0.086662\n",
      "37    h2h_rank_points_log_diff      0.678677\n",
      "38      retgames_won_perc_diff      0.199298\n",
      "39  h2h_retgames_won_perc_diff     -0.129867\n",
      "40            retwon_perc_diff      0.503568\n",
      "41        h2h_retwon_perc_diff      0.000000\n",
      "42           setswon_perc_diff      0.000000\n",
      "43       h2h_setswon_perc_diff      0.036906\n",
      "44      srvgames_won_perc_diff     -0.490496\n",
      "45  h2h_srvgames_won_perc_diff      0.157214\n",
      "46            srvwon_perc_diff      0.492701\n",
      "47        h2h_srvwon_perc_diff      0.000000\n",
      "0.7344790215203592\n"
     ]
    }
   ],
   "source": [
    "y_pred_l1=clf_l1.predict(x_test_norm)\n",
    "coef_df_l1=coefficient_df(x_train, clf_l1)\n",
    "print(coef_df_l1.head(50))\n",
    "print(clf_l1.score(x_test_norm, y_test))"
   ]
  },
  {
   "cell_type": "code",
   "execution_count": 20,
   "metadata": {},
   "outputs": [
    {
     "data": {
      "text/plain": [
       "array([[2343,  881],\n",
       "       [ 834, 2401]], dtype=int64)"
      ]
     },
     "execution_count": 20,
     "metadata": {},
     "output_type": "execute_result"
    }
   ],
   "source": [
    "confusion_matrix(y_test, y_pred_l1)"
   ]
  },
  {
   "cell_type": "markdown",
   "metadata": {},
   "source": [
    "##### Run CV again, with lasso selected columns"
   ]
  },
  {
   "cell_type": "code",
   "execution_count": 21,
   "metadata": {},
   "outputs": [],
   "source": [
    "sparse_index=np.where(clf_l1.coef_[0]!=0.)[0]\n",
    "lasso_df=x_train_norm[:,sparse_index]\n",
    "lasso_test=x_test_norm[:, sparse_index]\n"
   ]
  },
  {
   "cell_type": "code",
   "execution_count": 22,
   "metadata": {},
   "outputs": [],
   "source": [
    "clf_l1_CV=LogisticRegressionCV(cv=5, random_state=RANDOM_STATE,\n",
    "                         max_iter=4000,Cs=[1,10,100,1000])\\\n",
    "                        .fit(lasso_df, y_train)\n"
   ]
  },
  {
   "cell_type": "code",
   "execution_count": 23,
   "metadata": {},
   "outputs": [
    {
     "name": "stdout",
     "output_type": "stream",
     "text": [
      "                       Feature  Coefficients\n",
      "0                  1steff_diff     -0.019464\n",
      "1              h2h_1steff_diff     -0.081961\n",
      "2             1stsrv_perc_diff      0.080551\n",
      "3         h2h_1stwin_perc_diff     -0.111113\n",
      "4                  2ndeff_diff      1.154822\n",
      "5              h2h_2ndeff_diff     -0.121885\n",
      "6             2ndsrv_perc_diff     -0.350066\n",
      "7         h2h_2ndsrv_perc_diff      0.114488\n",
      "8             2ndwin_perc_diff     -1.018193\n",
      "9                ace_perc_diff      0.012632\n",
      "10           h2h_ace_perc_diff      0.009509\n",
      "11                    age_diff     -0.136998\n",
      "12           bp_conv_perc_diff      0.166519\n",
      "13       h2h_bp_conv_perc_diff      0.038095\n",
      "14         bp_per_retgame_diff      0.098522\n",
      "15     h2h_bp_per_retgame_diff     -0.637786\n",
      "16          bp_per_svgame_diff     -0.772664\n",
      "17      h2h_bp_per_svgame_diff     -0.710712\n",
      "18           bp_save_perc_diff      0.555878\n",
      "19       h2h_bp_save_perc_diff      0.065166\n",
      "20                df_perc_diff      0.140172\n",
      "21            h2h_df_perc_diff      0.176888\n",
      "22    h2h_expected_retwin_diff     -0.111346\n",
      "23    h2h_expected_srvwin_diff      0.111346\n",
      "24          gameswon_perc_diff      0.200317\n",
      "25      h2h_gameswon_perc_diff     -0.111295\n",
      "26                 h2h_ht_diff     -0.007475\n",
      "27               rank_log_diff      0.079907\n",
      "28           h2h_rank_log_diff      0.718225\n",
      "29        rank_points_log_diff      0.069876\n",
      "30    h2h_rank_points_log_diff      0.687568\n",
      "31      retgames_won_perc_diff      0.197147\n",
      "32  h2h_retgames_won_perc_diff     -0.187923\n",
      "33            retwon_perc_diff      0.501117\n",
      "34       h2h_setswon_perc_diff      0.044077\n",
      "35      srvgames_won_perc_diff     -0.496589\n",
      "36  h2h_srvgames_won_perc_diff      0.255639\n",
      "37            srvwon_perc_diff      0.522641\n",
      "0.7341693760644062\n"
     ]
    }
   ],
   "source": [
    "y_pred_l1_CV=clf_l1_CV.predict(lasso_test)\n",
    "coef_df_l1_CV=coefficient_df(x_train.iloc[:,sparse_index], clf_l1_CV)\n",
    "print(coef_df_l1_CV.head(50))\n",
    "print(clf_l1_CV.score(lasso_test, y_test))"
   ]
  },
  {
   "cell_type": "code",
   "execution_count": 24,
   "metadata": {},
   "outputs": [
    {
     "data": {
      "text/plain": [
       "array([[2346,  878],\n",
       "       [ 839, 2396]], dtype=int64)"
      ]
     },
     "execution_count": 24,
     "metadata": {},
     "output_type": "execute_result"
    }
   ],
   "source": [
    "confusion_matrix(y_test, y_pred_l1_CV)"
   ]
  },
  {
   "cell_type": "markdown",
   "metadata": {},
   "source": [
    "### FDR Model Selection"
   ]
  },
  {
   "cell_type": "code",
   "execution_count": 25,
   "metadata": {},
   "outputs": [
    {
     "name": "stdout",
     "output_type": "stream",
     "text": [
      "(15069, 48) (15069, 39)\n"
     ]
    }
   ],
   "source": [
    "FDR=SelectFdr(f_classif, alpha=0.01)\n",
    "x_train_new=FDR.fit_transform(x_train_norm, y_train)\n",
    "x_test_new=FDR.transform(x_test_norm)\n",
    "print(x_train.shape, x_train_new.shape)"
   ]
  },
  {
   "cell_type": "code",
   "execution_count": 26,
   "metadata": {},
   "outputs": [],
   "source": [
    "fdr_clf=LogisticRegressionCV(cv=5, random_state=RANDOM_STATE,\n",
    "                         max_iter=4000,Cs=[1,10,100,1000])\\\n",
    "                        .fit(x_train_new, y_train)\n",
    "fdr_pred=fdr_clf.predict(x_test_new)\n"
   ]
  },
  {
   "cell_type": "code",
   "execution_count": 27,
   "metadata": {},
   "outputs": [
    {
     "name": "stdout",
     "output_type": "stream",
     "text": [
      "0.7350983124322651\n"
     ]
    },
    {
     "data": {
      "text/plain": [
       "array([[2351,  873],\n",
       "       [ 838, 2397]], dtype=int64)"
      ]
     },
     "execution_count": 27,
     "metadata": {},
     "output_type": "execute_result"
    }
   ],
   "source": [
    "#fdr_coef_df=coefficient_df(x_train_new, fdr_clf)\n",
    "#print(fdr_coef_df.head(50))\n",
    "print(fdr_clf.score(x_test_new, y_test))\n",
    "confusion_matrix(y_test, fdr_pred)"
   ]
  },
  {
   "cell_type": "markdown",
   "metadata": {},
   "source": [
    "#### ROC"
   ]
  },
  {
   "cell_type": "code",
   "execution_count": 28,
   "metadata": {},
   "outputs": [
    {
     "data": {
      "image/png": "[encoded data removed]",
      "text/plain": [
       "<Figure size 432x288 with 1 Axes>"
      ]
     },
     "metadata": {
      "needs_background": "light"
     },
     "output_type": "display_data"
    }
   ],
   "source": [
    "#predict_proba gets both predictions and probabilities\n",
    "#CHECK THIS\n",
    "#shamelessly stolen from stackoverflow\n",
    "def ROC_plot(x_test, y_test):\n",
    "    probs = clf.predict_proba(x_test)\n",
    "    #print(*probs)\n",
    "    preds = probs[:,1]\n",
    "    #print(preds)\n",
    "    fpr, tpr, threshold = metrics.roc_curve(y_test, preds)\n",
    "    roc_auc = metrics.auc(fpr, tpr)\n",
    "\n",
    "    # method I: plt\n",
    "    plt.title('Receiver Operating Characteristic')\n",
    "    plt.plot(fpr, tpr, 'b', label = 'AUC = %0.2f' % roc_auc)\n",
    "    plt.legend(loc = 'lower right')\n",
    "    plt.plot([0, 1], [0, 1],'r--')\n",
    "    plt.xlim([0, 1])\n",
    "    plt.ylim([0, 1])\n",
    "    plt.ylabel('True Positive Rate')\n",
    "    plt.xlabel('False Positive Rate')\n",
    "    plt.show()\n",
    "ROC_plot(x_test_norm, y_test)"
   ]
  },
  {
   "cell_type": "markdown",
   "metadata": {},
   "source": [
    "#### SVM"
   ]
  },
  {
   "cell_type": "code",
   "execution_count": null,
   "metadata": {},
   "outputs": [],
   "source": [
    "lin_svm=svm.LinearSVC().fit(x_train_norm, y_train)\n",
    "svm_pred=lin_svm.predict(x_test_norm)\n",
    "confusion_matrix(y_test, svm_pred)\n",
    "lin_svm.score(x_test_norm, y_test)\n"
   ]
  },
  {
   "cell_type": "markdown",
   "metadata": {},
   "source": [
    "#### Naive Bayes"
   ]
  },
  {
   "cell_type": "code",
   "execution_count": null,
   "metadata": {},
   "outputs": [],
   "source": [
    "gnb=GaussianNB()\n",
    "gnb_fit=gnb.fit(x_train_norm, y_train)\n",
    "gnb_pred=gnb_fit.predict(x_test_norm)\n",
    "confusion_matrix(y_test, gnb_pred)\n",
    "gnb_fit.score(x_test_norm, y_test)"
   ]
  },
  {
   "cell_type": "markdown",
   "metadata": {},
   "source": [
    "# Method 3 Prediction"
   ]
  },
  {
   "cell_type": "markdown",
   "metadata": {},
   "source": [
    "Use a multivariate random sample with mean of the players h2h dist and cov from full columns to generate new rows. These are the predicted stats for a given match. Then, predict using the above trained models"
   ]
  },
  {
   "cell_type": "markdown",
   "metadata": {},
   "source": [
    "### Mean and Covarariance"
   ]
  },
  {
   "cell_type": "code",
   "execution_count": null,
   "metadata": {},
   "outputs": [],
   "source": [
    "num_sm_perc=sm_perc.select_dtypes(include=np.number)\n",
    "\n",
    "cov_scaler=StandardScaler()\n",
    "\n",
    "scaled_sm_perc=cov_scaler.fit_transform(num_sm_perc)\n",
    "scaled_cov=pd.DataFrame(scaled_sm_perc, index=num_sm_perc.index, columns=num_sm_perc.columns)\n",
    "scaled_cov.head()\n",
    "#scaled_sm_names=pd.DataFrame(scaler.fit_transform(sm_names.loc[:, x_train.columns]), index=sm_names.index, columns=sm_names.columns)\n",
    "#scaled_sm_names"
   ]
  },
  {
   "cell_type": "code",
   "execution_count": null,
   "metadata": {},
   "outputs": [],
   "source": [
    "fixed=[\"ht\", \"age\", \"rank_log\", \"rank_points_log\"]\n",
    "#fixed_diff=[f+\"_diff\" for f in fixed]\n",
    "\n",
    "def full_cov(df):\n",
    "    p1=df.loc[:, df.columns.str.endswith(\"p1\")]\n",
    "    p2=df.loc[:, df.columns.str.endswith(\"p2\")]\n",
    "    \n",
    "    good_cols=[\"_\".join(x.split(\"_\")[:-1]) for x in list(p1.columns)]\n",
    "    \n",
    "    p1.columns=good_cols\n",
    "    p2.columns=good_cols\n",
    "    \n",
    "    print(pd.concat([p1, p2]))\n",
    "\n",
    "    both_cov=pd.concat([p1, p2]).drop(fixed, axis=1).cov()\n",
    "    \n",
    "    return both_cov\n",
    "\n",
    "covs=full_cov(scaled_cov)\n",
    "covs"
   ]
  },
  {
   "cell_type": "code",
   "execution_count": null,
   "metadata": {},
   "outputs": [],
   "source": [
    "def player_mean(player, match_df, num_matches):\n",
    "    p1=match_df.loc[match_df[\"name_p1\"]==player, match_df.columns.str.endswith(\"p1\")]\n",
    "    p2=match_df.loc[match_df[\"name_p2\"]==player, match_df.columns.str.endswith(\"p2\")]\n",
    "    \n",
    "    good_cols=[\"_\".join(x.split(\"_\")[:-1]) for x in list(p1.columns)]\n",
    "    \n",
    "    p1.columns=good_cols\n",
    "    p2.columns=good_cols\n",
    "    \n",
    "    player_match=pd.concat([p1, p2]).drop(fixed, axis=1).sort_index()\n",
    "    \n",
    "    recent_mean=player_match.tail(num_matches).mean()\n",
    "  \n",
    "    return recent_mean\n",
    "\n",
    "fed=player_mean(\"Roger Federer\", sm_perc, 5)\n",
    "fed"
   ]
  },
  {
   "cell_type": "markdown",
   "metadata": {},
   "source": [
    "### Generate New Rows"
   ]
  },
  {
   "cell_type": "markdown",
   "metadata": {},
   "source": [
    "All of the variables having univariate normal distributions suggests that assuming a multivariate normal distribution and sampling from it is justified"
   ]
  },
  {
   "cell_type": "code",
   "execution_count": null,
   "metadata": {},
   "outputs": [],
   "source": [
    "#HEIGHTS ARENT CORRECT, LOOK AT SM_NAMES IND 98 AS EXAMPLE\n",
    "\n",
    "def generate_new_oneplayer(player, match_df, num_matches, covs=full_cov(sm_perc)):\n",
    "    means=player_mean(player, match_df, num_matches)\n",
    "    \n",
    "    #print(means.shape, covs.shape)\n",
    "    \n",
    "    new_row=pd.Series(np.random.multivariate_normal(means.values, covs), index=means.index)\n",
    "    new_row[\"name\"]=player\n",
    "    #print(\"cols: \", match_df.columns)\n",
    "    #new_row[fixed]=match_df[fixed].iloc[-1, :].values\n",
    "    \n",
    "    return new_row\n",
    "\n",
    "def generate_new_row(player1, player2, match_df, num_matches):\n",
    "    new_p1=generate_new_oneplayer(player1, match_df, num_matches)\n",
    "    new_p2=generate_new_oneplayer(player2, match_df, num_matches)\n",
    "    \n",
    "    #new_p1.append(pd.Series({\"fake\": \"faker\"}))\n",
    "    \n",
    "    #print(\"new: \", new_p1)\n",
    "    \n",
    "    \n",
    "    #print(\"with slicing\", match_df.loc[match_df[\"name_p1\"]==player1, [f+\"_p1\" for f in fixed+[\"name\"]]].iloc[-1])\n",
    "    p1_app=match_df.loc[match_df[\"name_p1\"]==player1, [f+\"_p1\" for f in fixed]].iloc[-1]\n",
    "    p2_app=match_df.loc[match_df[\"name_p2\"]==player2, [f+\"_p2\" for f in fixed]].iloc[-1]\n",
    "    \n",
    "    #print(\"p1 app\", p1_app)\n",
    "    \n",
    "    p1_app.index=fixed\n",
    "    p2_app.index=fixed\n",
    "    \n",
    "    #print(\"p1 app\", p1_app)\n",
    "    \n",
    "    new_p1_conc=pd.concat([new_p1, p1_app])\n",
    "    new_p2_conc=pd.concat([new_p2, p2_app])\n",
    "    \n",
    "    #print(\"new p1 app\", new_p1_conc)\n",
    "    \n",
    "    new_p1_conc.index=[c+\"_p1\" for c in new_p1_conc.index.tolist()]\n",
    "    new_p2_conc.index=[c+\"_p2\" for c in new_p2_conc.index.tolist()]\n",
    "    \n",
    "    new_row=pd.concat([new_p1_conc, new_p2_conc])\n",
    "    \n",
    "    return new_row\n",
    "\n",
    "new_row=generate_new_row(\"Roger Federer\", \"Rafael Nadal\", sm_perc, 5)\n",
    "\n",
    "#sm_names.loc[98, [\"name_p1\", \"name_p2\", \"ht_p1\", \"ht_p2\"]]"
   ]
  },
  {
   "cell_type": "code",
   "execution_count": null,
   "metadata": {},
   "outputs": [],
   "source": [
    "test_df=pd.DataFrame({\"name_p1\": \n",
    "                      [\"Roger Federer\", \"Roger Federer\", \"Rafael Nadal\", \"Stefanos Tsitsipas\", \"Marcos Giron\", \"Rafael Nadal\"],\n",
    "                      \"name_p2\": \n",
    "                      [\"Novak Djokovic\", \"Rafael Nadal\", \"Roger Federer\", \"Alexander Zverev\", \"David Goffin\", \"Novak Djokovic\"]})"
   ]
  },
  {
   "cell_type": "code",
   "execution_count": null,
   "metadata": {},
   "outputs": [],
   "source": [
    "generated_test=test_df.apply(lambda row: generate_new_row(row[\"name_p1\"], row[\"name_p2\"], sm_perc, num_matches=5), axis=1)\n",
    "test_df"
   ]
  },
  {
   "cell_type": "markdown",
   "metadata": {},
   "source": [
    "### Add in H2H"
   ]
  },
  {
   "cell_type": "code",
   "execution_count": null,
   "metadata": {},
   "outputs": [],
   "source": [
    "def get_h2h(player1, player2, h2h):\n",
    "    #print(h2h.loc[(h2h[\"name_p1\"]==player1)|(h2h[\"name_p1\", :])\n",
    "    try:\n",
    "        most_recent=h2h.loc[((h2h[\"name_p1\"]==player1)|(h2h[\"name_p1\"]==player2))&((h2h[\"name_p2\"]==player2)|(h2h[\"name_p2\"]==player1)), :].iloc[-1, :]\n",
    "        \n",
    "        if most_recent[\"name_p1\"]==player1:\n",
    "            return most_recent\n",
    "        elif most_recent[\"name_p2\"]==player1:\n",
    "            p1_cols=most_recent[most_recent.index.str.endswith(\"p1\")].index.tolist()\n",
    "            p2_cols=most_recent[most_recent.index.str.endswith(\"p2\")].index.tolist()\n",
    "\n",
    "            most_recent.loc[p1_cols+p2_cols]=most_recent.loc[p2_cols+p1_cols].values\n",
    "\n",
    "            return most_recent\n",
    "        else:\n",
    "            print(\"something is wrong with the names of the df\")\n",
    "\n",
    "    except IndexError:\n",
    "        empty_series=pd.Series(0, index=h2h.columns.tolist())\n",
    "        empty_series[\"name_p1\"]=player1\n",
    "        empty_series[\"name_p2\"]=player2\n",
    "        #most_recent=pd.Series(np.zeros(shape=(len(h2h.columns.tolist()), 1)), index=h2h.columns)\n",
    "        #print(empty_series)\n",
    "        return empty_series\n",
    "    \n",
    "h2h_test=get_h2h(\"David Goffin\", \"Marcos Giron\", h2h_df)\n",
    "#h2h_test=test_df.apply(lambda row: get_h2h(row[\"name_p1\"], row[\"name_p2\"], h2h_df), axis=1)\n",
    "#h2h_test\n",
    "    "
   ]
  },
  {
   "cell_type": "code",
   "execution_count": null,
   "metadata": {},
   "outputs": [],
   "source": [
    "def random_with_h2h(player1, player2, match_df, h2h, num_matches):\n",
    "    random_row=generate_new_row(player1, player2, match_df, num_matches)\n",
    "    h2h_row=get_h2h(player1, player2, h2h)\n",
    "    #print(h2h_row)\n",
    "    h2h_row.index=[\"h2h_\"+c for c in h2h_row.index.tolist()]\n",
    "    \n",
    "    combined=pd.concat([random_row, h2h_row])\n",
    "    \n",
    "    return combined\n",
    "\n",
    "def random_h2h_diff(new_match_df, old_match_df, h2h, num_matches):\n",
    "    applied_rand_h2h=new_match_df.apply(lambda row: random_with_h2h(row[\"name_p1\"], row[\"name_p2\"], old_match_df, h2h, num_matches), axis=1)\n",
    "    \n",
    "    #print(old_match_df.loc[old_match_df[\"name_p1\"]==\"Stefanos Tsitsipas\", \"ht_p1\"])\n",
    "    #print(applied_rand_h2h[[\"name_p1\", \"name_p2\", \"ht_p1\", \"ht_p2\"]])\n",
    "    combined_diff=create_diff(applied_rand_h2h, diff_params)\n",
    "    \n",
    "    return combined_diff\n",
    "    \n",
    "\n",
    "test_rand_h2h=random_h2h_diff(test_df, sm_perc, h2h_df, num_matches=5)\n",
    "test_rand_h2h"
   ]
  },
  {
   "cell_type": "code",
   "execution_count": null,
   "metadata": {},
   "outputs": [],
   "source": [
    "def meth3_predictions(clf, new_match_df, old_match_df, h2h, num_matches):\n",
    "    diffs=random_h2h_diff(new_match_df, old_match_df, h2h, num_matches)\n",
    "    \n",
    "    \n",
    "    #print(\"X\", x_train.columns)\n",
    "    #print(\"rand\", diffs[x_train.columns].columns)\n",
    "    \n",
    "    diffs_dropped=diffs[x_train.columns]\n",
    "    \n",
    "    diffs_dropped[\"h2h_ht_diff\"].fillna(diffs_dropped[\"ht_diff\"], inplace=True)\n",
    "    \n",
    "    #print(\"isna: \", diffs_dropped.isna().sum())\n",
    "    #print(\"ht\", diffs_dropped[\"ht_diff\"])\n",
    "    #print(\"h2hht: \", diffs_dropped[\"h2h_ht_diff\"])\n",
    "    \n",
    "    #print(diffs_dropped)\n",
    "    #print(diffs_dropped.shape, len(x_train.columns.tolist()), x_train_norm.shape)\n",
    "    \n",
    "    preds=clf.predict(diffs_dropped)\n",
    "    probs=clf.predict_proba(diffs_dropped)\n",
    "    \n",
    "    return preds, probs, diffs\n",
    "\n",
    "meth3_predictions(clf, test_df, sm_perc, h2h_df, num_matches=5)\n",
    "    "
   ]
  },
  {
   "cell_type": "code",
   "execution_count": null,
   "metadata": {},
   "outputs": [],
   "source": [
    "def simulate(clf, new_match_df, old_match_df, h2h, num_matches, n):\n",
    "    preds=np.ones((n, new_match_df.shape[0]))\n",
    "    #print(preds.shape)\n",
    "    #print(preds)\n",
    "    probs=np.ones((n, new_match_df.shape[0], 2))\n",
    "    \n",
    "    #make a diffs array and find the variance across the simulation runs for the different statistics\n",
    "    for i in range(n):\n",
    "        pred, prob, diffs=meth3_predictions(clf, new_match_df, old_match_df, h2h, num_matches)\n",
    "        #print(pred.shape, prob.shape)\n",
    "        preds[i, :]=pred\n",
    "        probs[i, :, :]=prob\n",
    "        #probs[i, :]=prob\n",
    "    \n",
    "    preds_voting=np.mean(preds, axis=0)\n",
    "    probs_voting=np.mean(probs, axis=0)\n",
    "    \n",
    "    preds_var=np.var(preds, axis=0)\n",
    "    probs_var=np.var(probs, axis=0)\n",
    "    \n",
    "    return preds_voting, preds_var, probs_voting, probs_var\n",
    "    #return preds, preds_voting, probs, probs_voting\n",
    "\n",
    "simulate(clf, test_df, sm_perc, h2h_df, num_matches=5, n=100)\n",
    "        "
   ]
  },
  {
   "cell_type": "code",
   "execution_count": null,
   "metadata": {},
   "outputs": [],
   "source": []
  },
  {
   "cell_type": "code",
   "execution_count": null,
   "metadata": {},
   "outputs": [],
   "source": []
  }
 ],
 "metadata": {
  "kernelspec": {
   "display_name": "Python 3",
   "language": "python",
   "name": "python3"
  },
  "language_info": {
   "codemirror_mode": {
    "name": "ipython",
    "version": 3
   },
   "file_extension": ".py",
   "mimetype": "text/x-python",
   "name": "python",
   "nbconvert_exporter": "python",
   "pygments_lexer": "ipython3",
   "version": "3.7.3"
  }
 },
 "nbformat": 4,
 "nbformat_minor": 4
}
