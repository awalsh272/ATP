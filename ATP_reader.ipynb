{
 "cells": [
  {
   "cell_type": "code",
   "execution_count": 1,
   "metadata": {},
   "outputs": [],
   "source": [
    "import os\n",
    "import glob\n",
    "import pandas as pd\n",
    "import sqlite3\n",
    "from sqlite3 import Error\n",
    "from datetime import datetime as dt"
   ]
  },
  {
   "cell_type": "code",
   "execution_count": 2,
   "metadata": {},
   "outputs": [],
   "source": [
    "#define a couple of relevant paths to get to data/where to save it\n",
    "PATH=r'C:\\Users\\andyk\\OneDrive\\Documents\\Python_Scripts\\ATP' \n",
    "atp_path=r'C:\\Users\\andyk\\OneDrive\\Documents\\Python_Scripts\\ATP\\tennis_atp-master\\tennis_atp-master'\n",
    "pbp_path=r'C:\\Users\\andyk\\OneDrive\\Documents\\Python_Scripts\\ATP\\tennis_pointbypoint-master\\tennis_pointbypoint-master'"
   ]
  },
  {
   "cell_type": "code",
   "execution_count": 3,
   "metadata": {},
   "outputs": [],
   "source": [
    "#read in all of the files in the directory with certain formats\n",
    "#lists of path names\n",
    "all_matches=glob.glob(os.path.join(atp_path, \"atp_matches_[0-9]*.csv\"))\n",
    "all_rankings=glob.glob(os.path.join(atp_path, \"atp_rankings_*.csv\"))"
   ]
  },
  {
   "cell_type": "code",
   "execution_count": 10,
   "metadata": {},
   "outputs": [
    {
     "name": "stdout",
     "output_type": "stream",
     "text": [
      "0         19680708\n",
      "1         19680708\n",
      "2         19680708\n",
      "3         19680708\n",
      "4         19680708\n",
      "            ...   \n",
      "176946    20200306\n",
      "176947    20200306\n",
      "176948    20200306\n",
      "176949    20200306\n",
      "176950    20200306\n",
      "Name: tourney_date, Length: 176951, dtype: int64\n"
     ]
    }
   ],
   "source": [
    "#turn all the dfs of the same type (different years) into one big df\n",
    "def combine_dfs(globs):\n",
    "    \n",
    "    glob_list = []\n",
    "    for f in globs:\n",
    "        df = pd.read_csv(f, sep=',')\n",
    "        df['file'] = f.split('/')[-1]\n",
    "        glob_list.append(df)\n",
    "\n",
    "    glob_df = pd.concat(glob_list, ignore_index=True, sort=True)\n",
    "    return glob_df\n",
    "\n",
    "matches_df=combine_dfs(all_matches)\n",
    "rankings_df=combine_dfs(all_rankings)\n",
    "\n",
    "print(matches_df[\"tourney_date\"])\n",
    "matches_df[\"tournament_date\"]=matches_df[\"tourney_date\"].apply(lambda x: dt.strptime(str(x), \"%Y%m%d\"))\n",
    "matches_df[\"Year\"]=matches_df.tournament_date.dt.year\n",
    "#date_series=matches_df[\"tourney_date\"].apply(lambda x: str(x))\n",
    "#tourney_name_joined=matches_df[\"tourney_name\"].str.replace(\" \", \"_\")\n",
    "matches_df[\"players\"]=matches_df[[\"winner_name\", \"loser_name\"]].values.tolist()\n",
    "matches_df[\"sorted_players\"]=matches_df[\"players\"].apply(lambda x: sorted(x))\n",
    "#matches_df[\"match_id\"]=\n",
    "#matches_df[\"match_id\"]"
   ]
  },
  {
   "cell_type": "code",
   "execution_count": 9,
   "metadata": {},
   "outputs": [],
   "source": [
    "#save as csvs\n",
    "matches_df.to_csv(os.path.join(PATH, \"all_matches.csv\"), index=False)\n",
    "rankings_df.to_csv(os.path.join(PATH, \"rankings.csv\"))"
   ]
  },
  {
   "cell_type": "code",
   "execution_count": 19,
   "metadata": {},
   "outputs": [
    {
     "name": "stdout",
     "output_type": "stream",
     "text": [
      "Connection to MySQL DB successful\n"
     ]
    }
   ],
   "source": [
    "#save in sqlite database\n",
    "sql_path=r'C:\\Users\\andyk\\OneDrive\\Documents\\Python_Scripts\\SQL\\ATP.sqlite'\n",
    "\n",
    "def create_connection(path):\n",
    "    connection = None\n",
    "    try:\n",
    "        connection = sqlite3.connect(path)\n",
    "        print(\"Connection to MySQL DB successful\")\n",
    "    except Error as e:\n",
    "        print(f\"The error '{e}' occurred\")\n",
    "\n",
    "    return connection\n",
    "\n",
    "def create_table_pandas(df, name, connection):\n",
    "    df_headers=list(df.columns.values)\n",
    "    df_str=\"(\"+\",\".join(df_headers)+\")\"\n",
    "    sql_name=\"CREATE TABLE %s\" %(name)\n",
    "    sql=sql_name+df_str\n",
    "    try:\n",
    "        cursor=connection.cursor()\n",
    "        cursor.execute(sql)\n",
    "        print(\"Table: %s created successfully\" %(name))\n",
    "    except Error as e:\n",
    "        print(f\"The error '{e}' occurred\")\n",
    "\n",
    "connection=create_connection(sql_path)\n"
   ]
  },
  {
   "cell_type": "code",
   "execution_count": 20,
   "metadata": {},
   "outputs": [],
   "source": [
    "#create_table_pandas(matches_df, \"Matches\", connection=connection)\n",
    "#create_table_pandas(rankings_df, \"Rankings\", connection=connection)\n",
    "matches_df.to_sql(\"Matches\", con=connection, if_exists=\"replace\", index=False)\n",
    "rankings_df.to_sql(\"Rankings\", con=connection, if_exists=\"replace\", index=False)"
   ]
  },
  {
   "cell_type": "code",
   "execution_count": null,
   "metadata": {},
   "outputs": [],
   "source": []
  },
  {
   "cell_type": "code",
   "execution_count": null,
   "metadata": {},
   "outputs": [],
   "source": []
  }
 ],
 "metadata": {
  "kernelspec": {
   "display_name": "Python 3",
   "language": "python",
   "name": "python3"
  },
  "language_info": {
   "codemirror_mode": {
    "name": "ipython",
    "version": 3
   },
   "file_extension": ".py",
   "mimetype": "text/x-python",
   "name": "python",
   "nbconvert_exporter": "python",
   "pygments_lexer": "ipython3",
   "version": "3.7.3"
  }
 },
 "nbformat": 4,
 "nbformat_minor": 4
}
